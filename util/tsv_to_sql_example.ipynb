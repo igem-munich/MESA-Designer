{
 "cells": [
  {
   "metadata": {},
   "cell_type": "code",
   "outputs": [],
   "execution_count": null,
   "source": "from database_interaction import read_csv, create_connection, create_table_from_header, insert_data",
   "id": "3f61e1fa882fa77f"
  },
  {
   "metadata": {
    "ExecuteTime": {
     "end_time": "2025-08-12T20:49:34.372281Z",
     "start_time": "2025-08-12T20:49:34.312026Z"
    }
   },
   "cell_type": "code",
   "source": "header, data = read_csv(\"../files/sabdab_summary_all.tsv\", \"\\t\")",
   "id": "5ed428beb6bbd573",
   "outputs": [],
   "execution_count": 6
  },
  {
   "metadata": {
    "ExecuteTime": {
     "end_time": "2025-08-12T20:49:36.679619Z",
     "start_time": "2025-08-12T20:49:36.676940Z"
    }
   },
   "cell_type": "code",
   "source": "conn = create_connection(\"../data/sabdab_summary_all.sqlite\")",
   "id": "17fb333352a5a3e3",
   "outputs": [
    {
     "name": "stdout",
     "output_type": "stream",
     "text": [
      "Connected to database: ../data/sabdab_summary_all.sqlite\n"
     ]
    }
   ],
   "execution_count": 7
  },
  {
   "metadata": {
    "ExecuteTime": {
     "end_time": "2025-08-12T20:01:33.256336Z",
     "start_time": "2025-08-12T20:01:33.247110Z"
    }
   },
   "cell_type": "code",
   "source": "create_table_from_header(conn, header, \"main\")",
   "id": "58eb6e6e4700f619",
   "outputs": [
    {
     "name": "stdout",
     "output_type": "stream",
     "text": [
      "Successfully created table DATA with columns: pdb TEXT, Hchain TEXT, Lchain TEXT, model TEXT, antigen_chain TEXT, antigen_type TEXT, antigen_het_name TEXT, antigen_name TEXT, short_header TEXT, date TEXT, compound TEXT, organism TEXT, heavy_species TEXT, light_species TEXT, antigen_species TEXT, authors TEXT, resolution TEXT, method TEXT, r_free TEXT, r_factor TEXT, scfv TEXT, engineered TEXT, heavy_subclass TEXT, light_subclass TEXT, light_ctype TEXT, affinity TEXT, delta_g TEXT, affinity_method TEXT, temperature TEXT, pmid TEXT\n"
     ]
    }
   ],
   "execution_count": 16
  },
  {
   "metadata": {
    "ExecuteTime": {
     "end_time": "2025-08-12T20:13:13.752198Z",
     "start_time": "2025-08-12T20:13:13.700488Z"
    }
   },
   "cell_type": "code",
   "source": "insert_data(conn, data, \"main\")",
   "id": "48553aace5b341d4",
   "outputs": [
    {
     "name": "stdout",
     "output_type": "stream",
     "text": [
      "Data inserted successfully!\n"
     ]
    }
   ],
   "execution_count": 22
  },
  {
   "metadata": {
    "ExecuteTime": {
     "end_time": "2025-08-13T10:36:32.951535Z",
     "start_time": "2025-08-13T10:36:32.933516Z"
    }
   },
   "cell_type": "code",
   "source": "skempi_header, skempi_data = read_csv(\"../files/skempi_v2.csv\", \";\")",
   "id": "7571f3a58f2644b6",
   "outputs": [],
   "execution_count": 9
  },
  {
   "metadata": {
    "ExecuteTime": {
     "end_time": "2025-08-13T10:56:33.813164Z",
     "start_time": "2025-08-13T10:56:33.810182Z"
    }
   },
   "cell_type": "code",
   "source": "conn = create_connection(\"../data/sabdab_summary_all.sqlite\")",
   "id": "13ee6f811daf4eed",
   "outputs": [
    {
     "name": "stdout",
     "output_type": "stream",
     "text": [
      "Connected to database: ../data/sabdab_summary_all.sqlite\n"
     ]
    }
   ],
   "execution_count": 10
  },
  {
   "metadata": {
    "ExecuteTime": {
     "end_time": "2025-08-13T11:00:43.271876Z",
     "start_time": "2025-08-13T11:00:43.259985Z"
    }
   },
   "cell_type": "code",
   "source": "create_table_from_header(conn, skempi_header, \"skempi\")",
   "id": "16e3485f224a5c5f",
   "outputs": [
    {
     "name": "stdout",
     "output_type": "stream",
     "text": [
      "'Pdb' TEXT, 'Mutation(s)_PDB' TEXT, 'Mutation(s)_cleaned' TEXT, 'iMutation_Location(s)' TEXT, 'Hold_out_type' TEXT, 'Hold_out_proteins' TEXT, 'Affinity_mut (M)' TEXT, 'Affinity_mut_parsed' TEXT, 'Affinity_wt (M)' TEXT, 'Affinity_wt_parsed' TEXT, 'Reference' TEXT, 'Protein 1' TEXT, 'Protein 2' TEXT, 'Temperature' TEXT, 'kon_mut (M^(-1)s^(-1))' TEXT, 'kon_mut_parsed' TEXT, 'kon_wt (M^(-1)s^(-1))' TEXT, 'kon_wt_parsed' TEXT, 'koff_mut (s^(-1))' TEXT, 'koff_mut_parsed' TEXT, 'koff_wt (s^(-1))' TEXT, 'koff_wt_parsed' TEXT, 'dH_mut (kcal mol^(-1))' TEXT, 'dH_wt (kcal mol^(-1))' TEXT, 'dS_mut (cal mol^(-1) K^(-1))' TEXT, 'dS_wt (cal mol^(-1) K^(-1))' TEXT, 'Notes' TEXT, 'Method' TEXT, 'SKEMPI version' TEXT\n",
      "Successfully created table skempi with columns: 'Pdb' TEXT, 'Mutation(s)_PDB' TEXT, 'Mutation(s)_cleaned' TEXT, 'iMutation_Location(s)' TEXT, 'Hold_out_type' TEXT, 'Hold_out_proteins' TEXT, 'Affinity_mut (M)' TEXT, 'Affinity_mut_parsed' TEXT, 'Affinity_wt (M)' TEXT, 'Affinity_wt_parsed' TEXT, 'Reference' TEXT, 'Protein 1' TEXT, 'Protein 2' TEXT, 'Temperature' TEXT, 'kon_mut (M^(-1)s^(-1))' TEXT, 'kon_mut_parsed' TEXT, 'kon_wt (M^(-1)s^(-1))' TEXT, 'kon_wt_parsed' TEXT, 'koff_mut (s^(-1))' TEXT, 'koff_mut_parsed' TEXT, 'koff_wt (s^(-1))' TEXT, 'koff_wt_parsed' TEXT, 'dH_mut (kcal mol^(-1))' TEXT, 'dH_wt (kcal mol^(-1))' TEXT, 'dS_mut (cal mol^(-1) K^(-1))' TEXT, 'dS_wt (cal mol^(-1) K^(-1))' TEXT, 'Notes' TEXT, 'Method' TEXT, 'SKEMPI version' TEXT\n"
     ]
    }
   ],
   "execution_count": 16
  },
  {
   "metadata": {
    "ExecuteTime": {
     "end_time": "2025-08-13T11:01:20.045518Z",
     "start_time": "2025-08-13T11:01:20.025928Z"
    }
   },
   "cell_type": "code",
   "source": "insert_data(conn, skempi_data, \"skempi\")",
   "id": "c2f0049cb3c42127",
   "outputs": [
    {
     "name": "stdout",
     "output_type": "stream",
     "text": [
      "Data inserted successfully!\n"
     ]
    }
   ],
   "execution_count": 18
  }
 ],
 "metadata": {
  "kernelspec": {
   "display_name": "Python 3",
   "language": "python",
   "name": "python3"
  },
  "language_info": {
   "codemirror_mode": {
    "name": "ipython",
    "version": 2
   },
   "file_extension": ".py",
   "mimetype": "text/x-python",
   "name": "python",
   "nbconvert_exporter": "python",
   "pygments_lexer": "ipython2",
   "version": "2.7.6"
  }
 },
 "nbformat": 4,
 "nbformat_minor": 5
}
