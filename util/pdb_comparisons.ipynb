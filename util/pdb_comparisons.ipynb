{
 "cells": [
  {
   "metadata": {
    "ExecuteTime": {
     "end_time": "2025-08-14T13:18:21.550975Z",
     "start_time": "2025-08-14T13:18:21.409722Z"
    }
   },
   "cell_type": "code",
   "source": [
    "from pathlib import Path\n",
    "from database_interaction import extract_pdb_from_abdb"
   ],
   "id": "a0e67fd8d9554b86",
   "outputs": [],
   "execution_count": 1
  },
  {
   "metadata": {
    "ExecuteTime": {
     "end_time": "2025-08-14T13:18:28.316373Z",
     "start_time": "2025-08-14T13:18:28.229615Z"
    }
   },
   "cell_type": "code",
   "source": [
    "sabdab_chothia = set([path.name for path in Path(\"../files/all_structures/chothia\").rglob(\"*.pdb\")])\n",
    "sabdab_imgt = set([path.name for path in Path(\"../files/all_structures/imgt\").rglob(\"*.pdb\")])\n",
    "sabdab_raw = set([path.name for path in Path(\"../files/all_structures/raw\").rglob(\"*.pdb\")])\n",
    "skempi = set([path.name.lower() for path in Path(\"../files/SKEMPI2_PDBs\").rglob(\"*.pdb\")])"
   ],
   "id": "f724af0d9fe5abf8",
   "outputs": [],
   "execution_count": 2
  },
  {
   "metadata": {
    "ExecuteTime": {
     "end_time": "2025-08-14T13:18:28.857886Z",
     "start_time": "2025-08-14T13:18:28.854928Z"
    }
   },
   "cell_type": "code",
   "source": [
    "print(f\"chothia: {len(sabdab_chothia)}\")\n",
    "print(f\"imgt: {len(sabdab_imgt)}\")\n",
    "print(f\"raw: {len(sabdab_raw)}\")\n",
    "print(f\"skempi: {len(skempi)}\")"
   ],
   "id": "5f7916df0285f031",
   "outputs": [
    {
     "name": "stdout",
     "output_type": "stream",
     "text": [
      "chothia: 9825\n",
      "imgt: 9824\n",
      "raw: 9825\n",
      "skempi: 345\n"
     ]
    }
   ],
   "execution_count": 3
  },
  {
   "metadata": {
    "ExecuteTime": {
     "end_time": "2025-08-14T13:18:29.295369Z",
     "start_time": "2025-08-14T13:18:29.292611Z"
    }
   },
   "cell_type": "code",
   "source": [
    "print(sabdab_raw - sabdab_chothia)\n",
    "print(sabdab_raw - sabdab_imgt)\n",
    "print(sabdab_chothia - sabdab_imgt)"
   ],
   "id": "3135c031e900063d",
   "outputs": [
    {
     "name": "stdout",
     "output_type": "stream",
     "text": [
      "set()\n",
      "{'6tnp.pdb'}\n",
      "{'6tnp.pdb'}\n"
     ]
    }
   ],
   "execution_count": 4
  },
  {
   "metadata": {
    "ExecuteTime": {
     "end_time": "2025-08-14T13:18:29.673391Z",
     "start_time": "2025-08-14T13:18:29.671003Z"
    }
   },
   "cell_type": "code",
   "source": [
    "print(len(skempi - sabdab_raw))\n",
    "print(len(sabdab_raw - skempi))"
   ],
   "id": "92e6fb881a6bf1b0",
   "outputs": [
    {
     "name": "stdout",
     "output_type": "stream",
     "text": [
      "289\n",
      "9769\n"
     ]
    }
   ],
   "execution_count": 5
  },
  {
   "metadata": {
    "ExecuteTime": {
     "end_time": "2025-08-14T13:18:30.916477Z",
     "start_time": "2025-08-14T13:18:30.913150Z"
    }
   },
   "cell_type": "code",
   "source": "iter(skempi).__next__()",
   "id": "f74fb73f8f1b2f30",
   "outputs": [
    {
     "data": {
      "text/plain": [
       "'4krl.pdb'"
      ]
     },
     "execution_count": 6,
     "metadata": {},
     "output_type": "execute_result"
    }
   ],
   "execution_count": 6
  },
  {
   "metadata": {
    "ExecuteTime": {
     "end_time": "2025-08-14T13:18:43.308102Z",
     "start_time": "2025-08-14T13:18:43.092425Z"
    }
   },
   "cell_type": "code",
   "source": [
    "abdb_chothia = set([extract_pdb_from_abdb(path.name[:-3]) + \".pdb\" for path in Path(\"../files/abdb_newdata_20240706/chothia\").rglob(\"*.cho\")])\n",
    "abdb_rest = set([extract_pdb_from_abdb(path.name[:-3]) + \".pdb\" for path in Path(\"../files/abdb_newdata_20240706\").glob(\"*.*a*\")])"
   ],
   "id": "1f7b36f706296c9c",
   "outputs": [],
   "execution_count": 8
  },
  {
   "metadata": {
    "ExecuteTime": {
     "end_time": "2025-08-14T13:18:44.132359Z",
     "start_time": "2025-08-14T13:18:44.130421Z"
    }
   },
   "cell_type": "code",
   "source": [
    "print(len(abdb_chothia))\n",
    "print(len(abdb_rest))"
   ],
   "id": "58d8f98585c5b7b5",
   "outputs": [
    {
     "name": "stdout",
     "output_type": "stream",
     "text": [
      "8172\n",
      "8330\n"
     ]
    }
   ],
   "execution_count": 9
  },
  {
   "metadata": {
    "ExecuteTime": {
     "end_time": "2025-08-14T13:18:51.749374Z",
     "start_time": "2025-08-14T13:18:51.746825Z"
    }
   },
   "cell_type": "code",
   "source": "print(len(abdb_rest - abdb_chothia))",
   "id": "82d58c47bb68bdbb",
   "outputs": [
    {
     "name": "stdout",
     "output_type": "stream",
     "text": [
      "158\n"
     ]
    }
   ],
   "execution_count": 10
  },
  {
   "metadata": {
    "ExecuteTime": {
     "end_time": "2025-08-14T13:18:54.418095Z",
     "start_time": "2025-08-14T13:18:54.415657Z"
    }
   },
   "cell_type": "code",
   "source": "print(len(abdb_chothia - abdb_rest))",
   "id": "bbd6f005bfd8e4e6",
   "outputs": [
    {
     "name": "stdout",
     "output_type": "stream",
     "text": [
      "0\n"
     ]
    }
   ],
   "execution_count": 11
  },
  {
   "metadata": {
    "ExecuteTime": {
     "end_time": "2025-08-14T13:19:31.485608Z",
     "start_time": "2025-08-14T13:19:31.482984Z"
    }
   },
   "cell_type": "code",
   "source": [
    "print(len(sabdab_raw - abdb_rest))\n",
    "print(len(abdb_rest - sabdab_raw))"
   ],
   "id": "c1519c81f85600c5",
   "outputs": [
    {
     "name": "stdout",
     "output_type": "stream",
     "text": [
      "1549\n",
      "54\n"
     ]
    }
   ],
   "execution_count": 13
  },
  {
   "metadata": {
    "ExecuteTime": {
     "end_time": "2025-08-14T13:44:18.620176Z",
     "start_time": "2025-08-14T13:44:18.617508Z"
    }
   },
   "cell_type": "code",
   "source": "print(len(abdb_chothia - sabdab_raw))",
   "id": "baa9e0f4a1c6916c",
   "outputs": [
    {
     "name": "stdout",
     "output_type": "stream",
     "text": [
      "48\n"
     ]
    }
   ],
   "execution_count": 15
  },
  {
   "metadata": {
    "ExecuteTime": {
     "end_time": "2025-08-14T13:44:52.525151Z",
     "start_time": "2025-08-14T13:44:52.521809Z"
    }
   },
   "cell_type": "code",
   "source": "print((abdb_rest - sabdab_raw) - (abdb_chothia - sabdab_raw))",
   "id": "4a01334f8ccf099",
   "outputs": [
    {
     "name": "stdout",
     "output_type": "stream",
     "text": [
      "{'6rum.pdb', '5nst.pdb', '6rul.pdb', '6z1o.pdb', '7jz1.pdb', '1i3u.pdb'}\n"
     ]
    }
   ],
   "execution_count": 16
  },
  {
   "metadata": {},
   "cell_type": "code",
   "outputs": [],
   "execution_count": null,
   "source": "",
   "id": "c2d884816792d678"
  }
 ],
 "metadata": {
  "kernelspec": {
   "display_name": "Python 3",
   "language": "python",
   "name": "python3"
  },
  "language_info": {
   "codemirror_mode": {
    "name": "ipython",
    "version": 2
   },
   "file_extension": ".py",
   "mimetype": "text/x-python",
   "name": "python",
   "nbconvert_exporter": "python",
   "pygments_lexer": "ipython2",
   "version": "2.7.6"
  }
 },
 "nbformat": 4,
 "nbformat_minor": 5
}
