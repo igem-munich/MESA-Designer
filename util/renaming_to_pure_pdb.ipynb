{
 "cells": [
  {
   "metadata": {
    "ExecuteTime": {
     "end_time": "2025-08-15T19:29:14.342008Z",
     "start_time": "2025-08-15T19:29:14.340131Z"
    }
   },
   "cell_type": "code",
   "source": [
    "from database_interaction import extract_pdb_from_abdb\n",
    "from pathlib import Path\n",
    "import os"
   ],
   "id": "f074d41cd874c25c",
   "outputs": [],
   "execution_count": 4
  },
  {
   "cell_type": "code",
   "id": "initial_id",
   "metadata": {
    "collapsed": true,
    "ExecuteTime": {
     "end_time": "2025-08-14T13:29:53.708387Z",
     "start_time": "2025-08-14T13:29:53.610106Z"
    }
   },
   "source": [
    "# abdb chothia renaming\n",
    "# check duplicate names\n",
    "print(len([path.name for path in Path(\"../files/abdb_newdata_20240706/chothia\").glob(\"*.cho\")]))\n",
    "print(len(set([extract_pdb_from_abdb(path.name) for path in Path(\"../files/abdb_newdata_20240706/chothia\").glob(\"*.cho\")])))"
   ],
   "outputs": [
    {
     "name": "stdout",
     "output_type": "stream",
     "text": [
      "15168\n",
      "8172\n"
     ]
    }
   ],
   "execution_count": 3
  },
  {
   "metadata": {
    "ExecuteTime": {
     "end_time": "2025-08-14T13:42:49.443598Z",
     "start_time": "2025-08-14T13:42:47.119745Z"
    }
   },
   "cell_type": "code",
   "source": [
    "# comparing the structures, there are only small differences, however as there are multiple available structures, they can all be returned\n",
    "# renaming of structures\n",
    "for path in Path(\"../files/abdb_newdata_20240706/chothia\").glob(\"*.cho\"):\n",
    "    new_path = path.with_name(path.name[3:-3] + \"pdb\")\n",
    "\n",
    "    os.rename(path, new_path)"
   ],
   "id": "96877200afa12b19",
   "outputs": [],
   "execution_count": 6
  },
  {
   "metadata": {
    "ExecuteTime": {
     "end_time": "2025-08-15T19:29:43.817804Z",
     "start_time": "2025-08-15T19:29:43.624868Z"
    }
   },
   "cell_type": "code",
   "source": [
    "# rename skempi pdbs\n",
    "for path in Path(\"../files/SKEMPI2_PDBs\").glob(\"*\"):\n",
    "    new_path = path.with_name(path.name.lower())\n",
    "\n",
    "    os.rename(path, new_path)"
   ],
   "id": "aff4229a4b630162",
   "outputs": [],
   "execution_count": 6
  },
  {
   "metadata": {},
   "cell_type": "code",
   "outputs": [],
   "execution_count": null,
   "source": "",
   "id": "a86dc6cbc9408494"
  }
 ],
 "metadata": {
  "kernelspec": {
   "display_name": "Python 3",
   "language": "python",
   "name": "python3"
  },
  "language_info": {
   "codemirror_mode": {
    "name": "ipython",
    "version": 2
   },
   "file_extension": ".py",
   "mimetype": "text/x-python",
   "name": "python",
   "nbconvert_exporter": "python",
   "pygments_lexer": "ipython2",
   "version": "2.7.6"
  }
 },
 "nbformat": 4,
 "nbformat_minor": 5
}
