{
 "cells": [
  {
   "metadata": {
    "ExecuteTime": {
     "end_time": "2025-08-15T19:03:50.476468Z",
     "start_time": "2025-08-15T19:03:49.645976Z"
    }
   },
   "cell_type": "code",
   "source": "from antibody_search import search_antibodies",
   "id": "903ea9d12187ef93",
   "outputs": [
    {
     "name": "stdout",
     "output_type": "stream",
     "text": [
      "Connected to database: ../data/sabdab_summary_all.sqlite\n"
     ]
    }
   ],
   "execution_count": 1
  },
  {
   "metadata": {
    "ExecuteTime": {
     "end_time": "2025-08-15T19:03:51.979815Z",
     "start_time": "2025-08-15T19:03:51.148729Z"
    }
   },
   "cell_type": "code",
   "source": [
    "antigen = \"progesterone\"\n",
    "sabdab, skempi, pdbs = search_antibodies(antigen)"
   ],
   "id": "96cee8d53f941163",
   "outputs": [],
   "execution_count": 2
  },
  {
   "metadata": {
    "ExecuteTime": {
     "end_time": "2025-08-15T19:03:53.197280Z",
     "start_time": "2025-08-15T19:03:53.188314Z"
    }
   },
   "cell_type": "code",
   "source": "sabdab",
   "id": "8c593e5f9c84ac67",
   "outputs": [
    {
     "data": {
      "text/plain": [
       "        pdb Hchain Lchain model antigen_chain antigen_type antigen_het_name  \\\n",
       "7665   1dbb      H      L     0             H       Hapten              STR   \n",
       "1634   9fkd      H      L     0             B      protein               NA   \n",
       "1635   9fkd      I      K     0            NA           NA               NA   \n",
       "10142  2o5y      H      L     0                                               \n",
       "10156  1dba      H      L     0                                               \n",
       "16886  1dbm      H      L     0             H       Hapten              SIH   \n",
       "\n",
       "                                 antigen_name     short_header      date  ...  \\\n",
       "7665                             PROGESTERONE   IMMUNOGLOBULIN  11/11/92  ...   \n",
       "1634      de novo designed dbpro1156_2 binder  DE NOVO PROTEIN  10/30/24  ...   \n",
       "1635                                       NA  DE NOVO PROTEIN  10/30/24  ...   \n",
       "10142                                            IMMUNE SYSTEM  12/06/06  ...   \n",
       "10156                                           IMMUNOGLOBULIN  11/10/92  ...   \n",
       "16886  PROGESTERONE-11-ALPHA-OL-HEMISUCCINATE   IMMUNOGLOBULIN  08/24/93  ...   \n",
       "\n",
       "        scfv engineered heavy_subclass light_subclass light_ctype affinity  \\\n",
       "7665   False       True          IGHV9          IGKV1       Kappa    1e-09   \n",
       "1634   False       True          IGHV9          IGKV1       Kappa     None   \n",
       "1635   False       True          IGHV4          IGKV6       Kappa     None   \n",
       "10142  False       True          IGHV7          IGKV2       Kappa     None   \n",
       "10156  False       True          IGHV9          IGKV1       Kappa     None   \n",
       "16886  False       True          IGHV9          IGKV1       Kappa     None   \n",
       "\n",
       "                  delta_g affinity_method temperature  pmid  \n",
       "7665   -12.27819680469229         Unknown               TBD  \n",
       "1634                 None            None        None  None  \n",
       "1635                 None            None        None  None  \n",
       "10142                None            None        None  None  \n",
       "10156                None            None        None  None  \n",
       "16886                None            None        None  None  \n",
       "\n",
       "[6 rows x 30 columns]"
      ],
      "text/html": [
       "<div>\n",
       "<style scoped>\n",
       "    .dataframe tbody tr th:only-of-type {\n",
       "        vertical-align: middle;\n",
       "    }\n",
       "\n",
       "    .dataframe tbody tr th {\n",
       "        vertical-align: top;\n",
       "    }\n",
       "\n",
       "    .dataframe thead th {\n",
       "        text-align: right;\n",
       "    }\n",
       "</style>\n",
       "<table border=\"1\" class=\"dataframe\">\n",
       "  <thead>\n",
       "    <tr style=\"text-align: right;\">\n",
       "      <th></th>\n",
       "      <th>pdb</th>\n",
       "      <th>Hchain</th>\n",
       "      <th>Lchain</th>\n",
       "      <th>model</th>\n",
       "      <th>antigen_chain</th>\n",
       "      <th>antigen_type</th>\n",
       "      <th>antigen_het_name</th>\n",
       "      <th>antigen_name</th>\n",
       "      <th>short_header</th>\n",
       "      <th>date</th>\n",
       "      <th>...</th>\n",
       "      <th>scfv</th>\n",
       "      <th>engineered</th>\n",
       "      <th>heavy_subclass</th>\n",
       "      <th>light_subclass</th>\n",
       "      <th>light_ctype</th>\n",
       "      <th>affinity</th>\n",
       "      <th>delta_g</th>\n",
       "      <th>affinity_method</th>\n",
       "      <th>temperature</th>\n",
       "      <th>pmid</th>\n",
       "    </tr>\n",
       "  </thead>\n",
       "  <tbody>\n",
       "    <tr>\n",
       "      <th>7665</th>\n",
       "      <td>1dbb</td>\n",
       "      <td>H</td>\n",
       "      <td>L</td>\n",
       "      <td>0</td>\n",
       "      <td>H</td>\n",
       "      <td>Hapten</td>\n",
       "      <td>STR</td>\n",
       "      <td>PROGESTERONE</td>\n",
       "      <td>IMMUNOGLOBULIN</td>\n",
       "      <td>11/11/92</td>\n",
       "      <td>...</td>\n",
       "      <td>False</td>\n",
       "      <td>True</td>\n",
       "      <td>IGHV9</td>\n",
       "      <td>IGKV1</td>\n",
       "      <td>Kappa</td>\n",
       "      <td>1e-09</td>\n",
       "      <td>-12.27819680469229</td>\n",
       "      <td>Unknown</td>\n",
       "      <td></td>\n",
       "      <td>TBD</td>\n",
       "    </tr>\n",
       "    <tr>\n",
       "      <th>1634</th>\n",
       "      <td>9fkd</td>\n",
       "      <td>H</td>\n",
       "      <td>L</td>\n",
       "      <td>0</td>\n",
       "      <td>B</td>\n",
       "      <td>protein</td>\n",
       "      <td>NA</td>\n",
       "      <td>de novo designed dbpro1156_2 binder</td>\n",
       "      <td>DE NOVO PROTEIN</td>\n",
       "      <td>10/30/24</td>\n",
       "      <td>...</td>\n",
       "      <td>False</td>\n",
       "      <td>True</td>\n",
       "      <td>IGHV9</td>\n",
       "      <td>IGKV1</td>\n",
       "      <td>Kappa</td>\n",
       "      <td>None</td>\n",
       "      <td>None</td>\n",
       "      <td>None</td>\n",
       "      <td>None</td>\n",
       "      <td>None</td>\n",
       "    </tr>\n",
       "    <tr>\n",
       "      <th>1635</th>\n",
       "      <td>9fkd</td>\n",
       "      <td>I</td>\n",
       "      <td>K</td>\n",
       "      <td>0</td>\n",
       "      <td>NA</td>\n",
       "      <td>NA</td>\n",
       "      <td>NA</td>\n",
       "      <td>NA</td>\n",
       "      <td>DE NOVO PROTEIN</td>\n",
       "      <td>10/30/24</td>\n",
       "      <td>...</td>\n",
       "      <td>False</td>\n",
       "      <td>True</td>\n",
       "      <td>IGHV4</td>\n",
       "      <td>IGKV6</td>\n",
       "      <td>Kappa</td>\n",
       "      <td>None</td>\n",
       "      <td>None</td>\n",
       "      <td>None</td>\n",
       "      <td>None</td>\n",
       "      <td>None</td>\n",
       "    </tr>\n",
       "    <tr>\n",
       "      <th>10142</th>\n",
       "      <td>2o5y</td>\n",
       "      <td>H</td>\n",
       "      <td>L</td>\n",
       "      <td>0</td>\n",
       "      <td></td>\n",
       "      <td></td>\n",
       "      <td></td>\n",
       "      <td></td>\n",
       "      <td>IMMUNE SYSTEM</td>\n",
       "      <td>12/06/06</td>\n",
       "      <td>...</td>\n",
       "      <td>False</td>\n",
       "      <td>True</td>\n",
       "      <td>IGHV7</td>\n",
       "      <td>IGKV2</td>\n",
       "      <td>Kappa</td>\n",
       "      <td>None</td>\n",
       "      <td>None</td>\n",
       "      <td>None</td>\n",
       "      <td>None</td>\n",
       "      <td>None</td>\n",
       "    </tr>\n",
       "    <tr>\n",
       "      <th>10156</th>\n",
       "      <td>1dba</td>\n",
       "      <td>H</td>\n",
       "      <td>L</td>\n",
       "      <td>0</td>\n",
       "      <td></td>\n",
       "      <td></td>\n",
       "      <td></td>\n",
       "      <td></td>\n",
       "      <td>IMMUNOGLOBULIN</td>\n",
       "      <td>11/10/92</td>\n",
       "      <td>...</td>\n",
       "      <td>False</td>\n",
       "      <td>True</td>\n",
       "      <td>IGHV9</td>\n",
       "      <td>IGKV1</td>\n",
       "      <td>Kappa</td>\n",
       "      <td>None</td>\n",
       "      <td>None</td>\n",
       "      <td>None</td>\n",
       "      <td>None</td>\n",
       "      <td>None</td>\n",
       "    </tr>\n",
       "    <tr>\n",
       "      <th>16886</th>\n",
       "      <td>1dbm</td>\n",
       "      <td>H</td>\n",
       "      <td>L</td>\n",
       "      <td>0</td>\n",
       "      <td>H</td>\n",
       "      <td>Hapten</td>\n",
       "      <td>SIH</td>\n",
       "      <td>PROGESTERONE-11-ALPHA-OL-HEMISUCCINATE</td>\n",
       "      <td>IMMUNOGLOBULIN</td>\n",
       "      <td>08/24/93</td>\n",
       "      <td>...</td>\n",
       "      <td>False</td>\n",
       "      <td>True</td>\n",
       "      <td>IGHV9</td>\n",
       "      <td>IGKV1</td>\n",
       "      <td>Kappa</td>\n",
       "      <td>None</td>\n",
       "      <td>None</td>\n",
       "      <td>None</td>\n",
       "      <td>None</td>\n",
       "      <td>None</td>\n",
       "    </tr>\n",
       "  </tbody>\n",
       "</table>\n",
       "<p>6 rows × 30 columns</p>\n",
       "</div>"
      ]
     },
     "execution_count": 3,
     "metadata": {},
     "output_type": "execute_result"
    }
   ],
   "execution_count": 3
  },
  {
   "metadata": {
    "ExecuteTime": {
     "end_time": "2025-08-15T19:03:55.098692Z",
     "start_time": "2025-08-15T19:03:55.095627Z"
    }
   },
   "cell_type": "code",
   "source": "skempi",
   "id": "c05b49b8136375a0",
   "outputs": [
    {
     "data": {
      "text/plain": [
       "{'1dbb': None, '9fkd': None, '2o5y': None, '1dba': None, '1dbm': None}"
      ]
     },
     "execution_count": 4,
     "metadata": {},
     "output_type": "execute_result"
    }
   ],
   "execution_count": 4
  },
  {
   "metadata": {
    "ExecuteTime": {
     "end_time": "2025-08-15T19:04:00.295031Z",
     "start_time": "2025-08-15T19:04:00.292454Z"
    }
   },
   "cell_type": "code",
   "source": "pdbs",
   "id": "3fdc44f3996708e5",
   "outputs": [
    {
     "data": {
      "text/plain": [
       "{'1dbb': WindowsPath('../files/all_structures/chothia/1dbb.pdb'),\n",
       " '9fkd': WindowsPath('../files/all_structures/chothia/9fkd.pdb'),\n",
       " '2o5y': WindowsPath('../files/all_structures/chothia/2o5y.pdb'),\n",
       " '1dba': WindowsPath('../files/all_structures/chothia/1dba.pdb'),\n",
       " '1dbm': WindowsPath('../files/all_structures/chothia/1dbm.pdb')}"
      ]
     },
     "execution_count": 5,
     "metadata": {},
     "output_type": "execute_result"
    }
   ],
   "execution_count": 5
  },
  {
   "metadata": {},
   "cell_type": "code",
   "outputs": [],
   "execution_count": null,
   "source": "",
   "id": "206c402eabfd08dc"
  }
 ],
 "metadata": {
  "kernelspec": {
   "display_name": "Python 3",
   "language": "python",
   "name": "python3"
  },
  "language_info": {
   "codemirror_mode": {
    "name": "ipython",
    "version": 2
   },
   "file_extension": ".py",
   "mimetype": "text/x-python",
   "name": "python",
   "nbconvert_exporter": "python",
   "pygments_lexer": "ipython2",
   "version": "2.7.6"
  }
 },
 "nbformat": 4,
 "nbformat_minor": 5
}
