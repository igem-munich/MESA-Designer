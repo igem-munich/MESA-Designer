{
 "cells": [
  {
   "cell_type": "code",
   "id": "initial_id",
   "metadata": {
    "collapsed": true,
    "ExecuteTime": {
     "end_time": "2025-08-12T19:54:31.028615Z",
     "start_time": "2025-08-12T19:54:31.025292Z"
    }
   },
   "source": [
    "import csv\n",
    "\n",
    "def read_tsv(filepath):\n",
    "    data = []\n",
    "    with open(filepath, 'r', newline='', encoding='utf-8') as tsvfile:\n",
    "        # Use csv.reader with tab as the delimiter\n",
    "        reader = csv.reader(tsvfile, delimiter='\\t')\n",
    "        header = next(reader) # Get the header row\n",
    "        for row in reader:\n",
    "            data.append(row)\n",
    "    return header, data"
   ],
   "outputs": [],
   "execution_count": 1
  },
  {
   "metadata": {
    "ExecuteTime": {
     "end_time": "2025-08-12T19:54:32.346126Z",
     "start_time": "2025-08-12T19:54:32.343942Z"
    }
   },
   "cell_type": "code",
   "source": [
    "import sqlite3\n",
    "\n",
    "def create_connection(db_file):\n",
    "    conn = None\n",
    "    try:\n",
    "        conn = sqlite3.connect(db_file)\n",
    "        print(f\"Connected to database: {db_file}\")\n",
    "    except sqlite3.Error as e:\n",
    "        print(e)\n",
    "    return conn"
   ],
   "id": "db71c4a47ca38f99",
   "outputs": [],
   "execution_count": 2
  },
  {
   "metadata": {
    "ExecuteTime": {
     "end_time": "2025-08-12T20:01:06.326874Z",
     "start_time": "2025-08-12T20:01:06.324407Z"
    }
   },
   "cell_type": "code",
   "source": [
    "def create_table_from_header(conn, header, table_name):\n",
    "    columns = [f\"{col} TEXT\" for col in header]\n",
    "    column_str = ', '.join(columns)\n",
    "\n",
    "    create_table = f\"create table {table_name} ({column_str})\"\n",
    "\n",
    "    try:\n",
    "        cursor = conn.cursor()\n",
    "        cursor.execute(create_table)\n",
    "        conn.commit()\n",
    "        print(f\"Successfully created table {table_name} with columns: {column_str}\")\n",
    "    except sqlite3.Error as e:\n",
    "        print(e)"
   ],
   "id": "b14db79384ea6b62",
   "outputs": [],
   "execution_count": 14
  },
  {
   "metadata": {
    "ExecuteTime": {
     "end_time": "2025-08-12T20:12:59.923925Z",
     "start_time": "2025-08-12T20:12:59.921166Z"
    }
   },
   "cell_type": "code",
   "source": [
    "def insert_data(conn, data, table_name):\n",
    "    placeholders = \", \".join([\"?\" for _ in range(len(data[0]))])\n",
    "    sql_insert = f\"insert into {table_name} values ({placeholders})\"\n",
    "\n",
    "    try:\n",
    "        cursor = conn.cursor()\n",
    "        cursor.executemany(sql_insert, data)\n",
    "        conn.commit()\n",
    "        print(\"Data inserted successfully!\")\n",
    "    except sqlite3.Error as e:\n",
    "        print(e)"
   ],
   "id": "ee6edb8abeb013ec",
   "outputs": [],
   "execution_count": 21
  },
  {
   "metadata": {
    "ExecuteTime": {
     "end_time": "2025-08-12T19:56:34.601460Z",
     "start_time": "2025-08-12T19:56:34.543096Z"
    }
   },
   "cell_type": "code",
   "outputs": [],
   "execution_count": 4,
   "source": "header, data = read_tsv(\"../files/sabdab_summary_all.tsv\")",
   "id": "5ed428beb6bbd573"
  },
  {
   "metadata": {
    "ExecuteTime": {
     "end_time": "2025-08-12T19:56:35.600409Z",
     "start_time": "2025-08-12T19:56:35.597747Z"
    }
   },
   "cell_type": "code",
   "outputs": [
    {
     "name": "stdout",
     "output_type": "stream",
     "text": [
      "Connected to database: ../data/sabdab_summary_all.sqlite\n"
     ]
    }
   ],
   "execution_count": 5,
   "source": "conn = create_connection(\"../data/sabdab_summary_all.sqlite\")",
   "id": "17fb333352a5a3e3"
  },
  {
   "metadata": {
    "ExecuteTime": {
     "end_time": "2025-08-12T20:01:33.256336Z",
     "start_time": "2025-08-12T20:01:33.247110Z"
    }
   },
   "cell_type": "code",
   "source": "create_table_from_header(conn, header, \"main\")",
   "id": "58eb6e6e4700f619",
   "outputs": [
    {
     "name": "stdout",
     "output_type": "stream",
     "text": [
      "Successfully created table DATA with columns: pdb TEXT, Hchain TEXT, Lchain TEXT, model TEXT, antigen_chain TEXT, antigen_type TEXT, antigen_het_name TEXT, antigen_name TEXT, short_header TEXT, date TEXT, compound TEXT, organism TEXT, heavy_species TEXT, light_species TEXT, antigen_species TEXT, authors TEXT, resolution TEXT, method TEXT, r_free TEXT, r_factor TEXT, scfv TEXT, engineered TEXT, heavy_subclass TEXT, light_subclass TEXT, light_ctype TEXT, affinity TEXT, delta_g TEXT, affinity_method TEXT, temperature TEXT, pmid TEXT\n"
     ]
    }
   ],
   "execution_count": 16
  },
  {
   "metadata": {
    "ExecuteTime": {
     "end_time": "2025-08-12T20:13:13.752198Z",
     "start_time": "2025-08-12T20:13:13.700488Z"
    }
   },
   "cell_type": "code",
   "source": "insert_data(conn, data, \"main\")",
   "id": "48553aace5b341d4",
   "outputs": [
    {
     "name": "stdout",
     "output_type": "stream",
     "text": [
      "Data inserted successfully!\n"
     ]
    }
   ],
   "execution_count": 22
  }
 ],
 "metadata": {
  "kernelspec": {
   "display_name": "Python 3",
   "language": "python",
   "name": "python3"
  },
  "language_info": {
   "codemirror_mode": {
    "name": "ipython",
    "version": 2
   },
   "file_extension": ".py",
   "mimetype": "text/x-python",
   "name": "python",
   "nbconvert_exporter": "python",
   "pygments_lexer": "ipython2",
   "version": "2.7.6"
  }
 },
 "nbformat": 4,
 "nbformat_minor": 5
}
