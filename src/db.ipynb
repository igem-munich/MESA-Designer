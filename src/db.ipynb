{
 "cells": [
  {
   "cell_type": "code",
   "execution_count": 1,
   "id": "bf292787",
   "metadata": {},
   "outputs": [],
   "source": [
    "import sqlite3 as sql"
   ]
  },
  {
   "cell_type": "code",
   "execution_count": 6,
   "id": "0157dc8f",
   "metadata": {},
   "outputs": [],
   "source": [
    "cursor = sql.connect(\"../ReceptorsDB.db\").cursor()"
   ]
  },
  {
   "cell_type": "code",
   "execution_count": 9,
   "id": "c3c0aa9d",
   "metadata": {},
   "outputs": [
    {
     "name": "stdout",
     "output_type": "stream",
     "text": [
      "[(1, 'Rapamycin', None, 1, None, None, None, None, None, None, None, None, None, None)]\n"
     ]
    }
   ],
   "source": [
    "cursor.execute(\"SELECT * FROM Constructs\")\n",
    "print(cursor.fetchmany())"
   ]
  },
  {
   "cell_type": "code",
   "execution_count": null,
   "id": "300cce30",
   "metadata": {},
   "outputs": [],
   "source": []
  }
 ],
 "metadata": {
  "kernelspec": {
   "display_name": "venv",
   "language": "python",
   "name": "python3"
  },
  "language_info": {
   "codemirror_mode": {
    "name": "ipython",
    "version": 3
   },
   "file_extension": ".py",
   "mimetype": "text/x-python",
   "name": "python",
   "nbconvert_exporter": "python",
   "pygments_lexer": "ipython3",
   "version": "3.12.3"
  }
 },
 "nbformat": 4,
 "nbformat_minor": 5
}
